{
 "cells": [
  {
   "cell_type": "markdown",
   "metadata": {},
   "source": [
    "here we just want to convert our gplates made gpml masking polygons to gmt (for gmt select)"
   ]
  },
  {
   "cell_type": "code",
   "execution_count": 2,
   "metadata": {},
   "outputs": [],
   "source": [
    "import numpy as np\n",
    "import pandas as pd\n",
    "import pygplates\n",
    "import gplately\n",
    "from pathlib import Path\n"
   ]
  },
  {
   "cell_type": "code",
   "execution_count": 3,
   "metadata": {},
   "outputs": [],
   "source": [
    "#set basefiles\n",
    "#platedir = '/Users/andrew/Documents/GitHub/EarthBytePlateMotionModel-ARCHIVE/Muller++_2015_AREPS_CORRECTED/'\n",
    "#savedir = '/Users/andrew/Documents/Data/Gernon_shallow_ridges/'\n",
    "\n",
    "polygondir = '/Users/andrew/Documents/Data/Gernon_shallow_ridges/ridge_polygons/gpml/'\n",
    "\n",
    "rotfile = './data/Global_EarthByte_230-0Ma_GK07_AREPS.rot'\n",
    "COBs = './data/Global_EarthByte_230-0Ma_GK07_AREPS_COB_Terranes.gpml'\n",
    "coastlines = './data/Global_EarthByte_230-0Ma_GK07_AREPS_Coastlines.gpml'\n",
    "topology_features = ['./data/Global_EarthByte_230-0Ma_GK07_AREPS_PlateBoundaries.gpml',\n",
    "                     './data/Global_EarthByte_230-0Ma_GK07_AREPS_Topology_BuildingBlocks.gpml']\n",
    "\n",
    "rotation_model = pygplates.RotationModel(rotfile)\n",
    "\n",
    "# Use the PlateReconstruction object to create a plate motion model\n",
    "model = gplately.PlateReconstruction(rotation_model,\n",
    "                                     topology_features,\n",
    "                                     [COBs, coastlines])"
   ]
  },
  {
   "cell_type": "code",
   "execution_count": 4,
   "metadata": {},
   "outputs": [],
   "source": [
    "#get list of all files to load\n",
    "ridge_polygons = []\n",
    "pathlist = Path(polygondir).rglob('*.gpml')\n",
    "for path in pathlist:\n",
    "    # because path is object not string\n",
    "    path_in_str = str(path)\n",
    "    ridge_polygons.append(path_in_str)"
   ]
  },
  {
   "cell_type": "code",
   "execution_count": 6,
   "metadata": {},
   "outputs": [
    {
     "name": "stdout",
     "output_type": "stream",
     "text": [
      "/Users/andrew/Documents/Data/Gernon_shallow_ridges/ridge_polygons/gpml/Iberian_Atlantic.gpml\n",
      "/Users/andrew/Documents/Data/Gernon_shallow_ridges/ridge_polygons/gpml/Labrador_sea.gpml\n",
      "/Users/andrew/Documents/Data/Gernon_shallow_ridges/ridge_polygons/gpml/Southern_Atlantic.gpml\n",
      "/Users/andrew/Documents/Data/Gernon_shallow_ridges/ridge_polygons/gpml/Central_Atlantic.gpml\n",
      "/Users/andrew/Documents/Data/Gernon_shallow_ridges/ridge_polygons/gpml/Equatorial_Atlantic.gpml\n",
      "/Users/andrew/Documents/Data/Gernon_shallow_ridges/ridge_polygons/gpml/Afr-Ant.gpml\n",
      "/Users/andrew/Documents/Data/Gernon_shallow_ridges/ridge_polygons/gpml/Afr-Mad.gpml\n",
      "/Users/andrew/Documents/Data/Gernon_shallow_ridges/ridge_polygons/gpml/Aus-Ant.gpml\n",
      "/Users/andrew/Documents/Data/Gernon_shallow_ridges/ridge_polygons/gpml/North_Atlantic.gpml\n",
      "/Users/andrew/Documents/Data/Gernon_shallow_ridges/ridge_polygons/gpml/Ind-Aus-Ant.gpml\n",
      "/Users/andrew/Documents/Data/Gernon_shallow_ridges/ridge_polygons/gpml/Aus-Mol.gpml\n",
      "/Users/andrew/Documents/Data/Gernon_shallow_ridges/ridge_polygons/gpml/Ind-Mad.gpml\n"
     ]
    }
   ],
   "source": [
    "#loop through times and reconstruct polygon and export as gmt per\n",
    "#timestep. NB most timesteps will be skipped for each polygon\n",
    "times = np.arange(0, 231, 1)\n",
    "for ridge_file in ridge_polygons:\n",
    "    print (ridge_file)\n",
    "    save_name = Path(ridge_file).stem\n",
    "    for time in times:\n",
    "        pygplates.reconstruct(ridge_file, rotfile,\n",
    "                              f'./data/ridge_polygons/gmt/{save_name}_{time}.gmt',\n",
    "                              int(time))\n",
    "    "
   ]
  },
  {
   "cell_type": "code",
   "execution_count": null,
   "metadata": {},
   "outputs": [],
   "source": []
  }
 ],
 "metadata": {
  "kernelspec": {
   "display_name": "Python 3 (ipykernel)",
   "language": "python",
   "name": "python3"
  },
  "language_info": {
   "codemirror_mode": {
    "name": "ipython",
    "version": 3
   },
   "file_extension": ".py",
   "mimetype": "text/x-python",
   "name": "python",
   "nbconvert_exporter": "python",
   "pygments_lexer": "ipython3",
   "version": "3.9.13"
  }
 },
 "nbformat": 4,
 "nbformat_minor": 4
}

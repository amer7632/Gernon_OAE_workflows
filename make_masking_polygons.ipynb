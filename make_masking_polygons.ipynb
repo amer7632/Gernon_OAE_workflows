{
 "cells": [
  {
   "cell_type": "code",
   "execution_count": 1,
   "metadata": {},
   "outputs": [],
   "source": [
    "import numpy as np\n",
    "import pandas as pd\n",
    "import sys\n",
    "sys.path.insert(1, '/Users/andrew/Documents/python/pygplates_rev28_python38_MacOS64')\n",
    "import pygplates\n",
    "\n",
    "from pathlib import Path\n"
   ]
  },
  {
   "cell_type": "code",
   "execution_count": 2,
   "metadata": {},
   "outputs": [],
   "source": [
    "platedir = '/Users/andrew/Documents/GitHub/EarthBytePlateMotionModel-ARCHIVE/Muller++_2015_AREPS_CORRECTED/'\n",
    "savedir = '/Users/andrew/Documents/Data/Gernon_shallow_ridges/'\n",
    "\n",
    "polygondir = '/Users/andrew/Documents/Data/Gernon_shallow_ridges/ridge_polygons/'\n",
    "\n",
    "rotfile = '%sGlobal_EarthByte_230-0Ma_GK07_AREPS.rot' % platedir\n",
    "COBs = '%sAgeGridInput/Global_EarthByte_230-0Ma_GK07_AREPS_COB_Terranes.gpml' % platedir\n",
    "coastlines = '%sGlobal_EarthByte_230-0Ma_GK07_AREPS_Coastlines.gpml' % platedir\n",
    "input_topology_filename = ['%sGlobal_EarthByte_230-0Ma_GK07_AREPS_PlateBoundaries.gpml' % platedir,\n",
    "                           '%sGlobal_EarthByte_230-0Ma_GK07_AREPS_Topology_BuildingBlocks.gpml' % platedir]\n",
    "\n",
    "rotation_model = pygplates.RotationModel(rotfile)\n"
   ]
  },
  {
   "cell_type": "code",
   "execution_count": 3,
   "metadata": {},
   "outputs": [],
   "source": [
    "#get list of all files to load\n",
    "ridge_polygons = []\n",
    "pathlist = Path(polygondir).rglob('*.gpml')\n",
    "for path in pathlist:\n",
    "    # because path is object not string\n",
    "    path_in_str = str(path)\n",
    "    ridge_polygons.append(path_in_str)\n",
    "    # print(path_in_str)"
   ]
  },
  {
   "cell_type": "code",
   "execution_count": 15,
   "metadata": {},
   "outputs": [],
   "source": [
    "save_name = Path(ridge_file).stem"
   ]
  },
  {
   "cell_type": "code",
   "execution_count": 16,
   "metadata": {},
   "outputs": [
    {
     "data": {
      "text/plain": [
       "'Afr-Ant'"
      ]
     },
     "execution_count": 16,
     "metadata": {},
     "output_type": "execute_result"
    }
   ],
   "source": [
    "save_name"
   ]
  },
  {
   "cell_type": "code",
   "execution_count": null,
   "metadata": {},
   "outputs": [],
   "source": []
  },
  {
   "cell_type": "code",
   "execution_count": 7,
   "metadata": {},
   "outputs": [
    {
     "data": {
      "text/plain": [
       "'/Users/andrew/Documents/Data/Gernon_shallow_ridges/Iberian_Atlantic.gmt'"
      ]
     },
     "execution_count": 7,
     "metadata": {},
     "output_type": "execute_result"
    }
   ],
   "source": [
    "'%s%s.gmt' % (savedir, save_name)"
   ]
  },
  {
   "cell_type": "code",
   "execution_count": 17,
   "metadata": {},
   "outputs": [
    {
     "name": "stdout",
     "output_type": "stream",
     "text": [
      "/Users/andrew/Documents/Data/Gernon_shallow_ridges/ridge_polygons/Iberian_Atlantic.gpml\n",
      "/Users/andrew/Documents/Data/Gernon_shallow_ridges/ridge_polygons/Labrador_sea.gpml\n",
      "/Users/andrew/Documents/Data/Gernon_shallow_ridges/ridge_polygons/Southern_Atlantic.gpml\n",
      "/Users/andrew/Documents/Data/Gernon_shallow_ridges/ridge_polygons/Central_Atlantic.gpml\n",
      "/Users/andrew/Documents/Data/Gernon_shallow_ridges/ridge_polygons/Equatorial_Atlantic.gpml\n",
      "/Users/andrew/Documents/Data/Gernon_shallow_ridges/ridge_polygons/Afr-Ant.gpml\n",
      "/Users/andrew/Documents/Data/Gernon_shallow_ridges/ridge_polygons/Afr-Mad.gpml\n",
      "/Users/andrew/Documents/Data/Gernon_shallow_ridges/ridge_polygons/Aus-Ant.gpml\n",
      "/Users/andrew/Documents/Data/Gernon_shallow_ridges/ridge_polygons/North_Atlantic.gpml\n",
      "/Users/andrew/Documents/Data/Gernon_shallow_ridges/ridge_polygons/Ind-Aus-Ant.gpml\n",
      "/Users/andrew/Documents/Data/Gernon_shallow_ridges/ridge_polygons/Aus-Mol.gpml\n",
      "/Users/andrew/Documents/Data/Gernon_shallow_ridges/ridge_polygons/Ind-Mad.gpml\n"
     ]
    }
   ],
   "source": [
    "times = np.arange(0, 201, 1)\n",
    "for ridge_file in ridge_polygons:\n",
    "    print (ridge_file)\n",
    "    save_name = Path(ridge_file).stem\n",
    "    for time in times:\n",
    "        #print (time)\n",
    "        pygplates.reconstruct(ridge_file, rotfile,\n",
    "                              '%sridge_polygons/%s_%s.gmt' % (savedir, save_name, int(time)), int(time))\n",
    "    "
   ]
  },
  {
   "cell_type": "code",
   "execution_count": null,
   "metadata": {},
   "outputs": [],
   "source": []
  }
 ],
 "metadata": {
  "kernelspec": {
   "display_name": "Python 3",
   "language": "python",
   "name": "python3"
  },
  "language_info": {
   "codemirror_mode": {
    "name": "ipython",
    "version": 3
   },
   "file_extension": ".py",
   "mimetype": "text/x-python",
   "name": "python",
   "nbconvert_exporter": "python",
   "pygments_lexer": "ipython3",
   "version": "3.8.3"
  }
 },
 "nbformat": 4,
 "nbformat_minor": 4
}
